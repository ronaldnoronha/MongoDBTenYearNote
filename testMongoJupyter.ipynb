{
 "cells": [
  {
   "cell_type": "code",
   "execution_count": 1,
   "metadata": {},
   "outputs": [
    {
     "name": "stdout",
     "output_type": "stream",
     "text": [
      "Database created!\n",
      "1499915  deleted\n",
      "0.5881140232086182  seconds\n",
      "10000  entries\n"
     ]
    }
   ],
   "source": [
    "from mongo import Mongo\n",
    "import time\n",
    "from datetime import datetime\n",
    "import pymongo\n",
    "\n",
    "def convert_to_datetime(date, time):\n",
    "    # date 2015/10/6\n",
    "\n",
    "    date_pieces = date.split(\"/\")\n",
    "    year = int(date_pieces[0])\n",
    "    month = int(date_pieces[1])\n",
    "    day = int(date_pieces[2])\n",
    "\n",
    "    # time 07:44:15.001\n",
    "    time_pieces = time.split(\":\")\n",
    "    hour = int(time_pieces[0])\n",
    "    minutes = int(time_pieces[1])\n",
    "    seconds = int(float(time_pieces[2]))\n",
    "    milli_seconds = int(1000000*(float(time_pieces[2])-seconds))\n",
    "\n",
    "    return datetime(year,month,day,hour,minutes,seconds,milli_seconds)\n",
    "\n",
    "ticks = Mongo(\"TenYearNote\")\n",
    "\n",
    "ticks.create_db()\n",
    "ticks.create_col('raw_ticks')\n",
    "mycol = ticks.mycol\n",
    "# delete entries\n",
    "x = mycol.delete_many({})\n",
    "print(x.deleted_count,\" deleted\")\n",
    "\n",
    "# add documents\n",
    "t1 = time.time()\n",
    "\n",
    "\n",
    "mylist = []\n",
    "\n",
    "with open('test_file.txt') as f:\n",
    "    counter = 0\n",
    "    lines = f.readlines()\n",
    "    instrument='TYAH16'\n",
    "\n",
    "    for i in lines:\n",
    "        if counter > 0:\n",
    "            words = i.split(\", \")\n",
    "            my_dict = {'datetime':convert_to_datetime(words[0], words[1]),'instrument':instrument,\n",
    "                      'price':words[2],'volume':int(words[6]),'delta':int(words[9]) - int(words[8])}\n",
    "\n",
    "            mylist.append(my_dict)\n",
    "        counter += 1\n",
    "\n",
    "\n",
    "ticks.add_documents(mylist)\n",
    "\n",
    "t2 = time.time()\n",
    "\n",
    "print(t2-t1,\" seconds\")\n",
    "# ticks.create_index_datetime()\n",
    "print(mycol.count_documents({}).__str__(),\" entries\")"
   ]
  },
  {
   "cell_type": "code",
   "execution_count": 2,
   "metadata": {},
   "outputs": [
    {
     "name": "stdout",
     "output_type": "stream",
     "text": [
      "1.230647087097168  seconds\n",
      "14997  entries\n"
     ]
    }
   ],
   "source": [
    "mylist = []\n",
    "with open('test_file2.txt') as f:\n",
    "    counter = 0\n",
    "    lines = f.readlines()\n",
    "    instrument='TYAH16'\n",
    "\n",
    "    for i in lines:\n",
    "        if counter > 0:\n",
    "            words = i.split(\", \")\n",
    "            my_dict = {'datetime':convert_to_datetime(words[0], words[1]),'instrument':instrument,\n",
    "                      'price':words[2],'volume':int(words[6]),'delta':int(words[9]) - int(words[8])}\n",
    "\n",
    "            mylist.append(my_dict)\n",
    "        counter += 1\n",
    "\n",
    "\n",
    "ticks.add_documents(mylist)\n",
    "t2 = time.time()\n",
    "\n",
    "print(t2-t1,\" seconds\")\n",
    "print(mycol.count_documents({}).__str__(),\" entries\")\n",
    "\n"
   ]
  },
  {
   "cell_type": "code",
   "execution_count": null,
   "metadata": {},
   "outputs": [],
   "source": [
    "from datetime import timedelta\n",
    "\n",
    "instrument = mylist[0][\"instrument\"]\n",
    "order=1\n",
    "aggregate_string = [{\"$match\":{\"instrument\":instrument}},{\"$sort\":{\"datetime\":order}},{\"$limit\":1}]\n",
    "\n",
    "x = list(mycol.aggregate(aggregate_string))[0]['datetime']\n",
    "print(x)\n",
    "print(x+timedelta(hours=12))\n",
    "\n"
   ]
  },
  {
   "cell_type": "code",
   "execution_count": null,
   "metadata": {},
   "outputs": [],
   "source": [
    "delete_str = {'datetime':{'$gte':x,'$lt':x+timedelta(hours=12)}}\n",
    "print(mycol.count_documents({}).__str__(),\" entries\")\n",
    "y = mycol.delete_many(delete_str)\n",
    "print(y.deleted_count)\n",
    "print(mycol.count_documents({}).__str__(),\" entries\")\n",
    "\n"
   ]
  },
  {
   "cell_type": "code",
   "execution_count": null,
   "metadata": {},
   "outputs": [],
   "source": [
    "print(type(mycol.count_documents({})))"
   ]
  },
  {
   "cell_type": "code",
   "execution_count": null,
   "metadata": {},
   "outputs": [],
   "source": [
    "ticks.delete_temp_collection()"
   ]
  },
  {
   "cell_type": "code",
   "execution_count": null,
   "metadata": {},
   "outputs": [],
   "source": []
  }
 ],
 "metadata": {
  "kernelspec": {
   "display_name": "Python 3",
   "language": "python",
   "name": "python3"
  },
  "language_info": {
   "codemirror_mode": {
    "name": "ipython",
    "version": 3
   },
   "file_extension": ".py",
   "mimetype": "text/x-python",
   "name": "python",
   "nbconvert_exporter": "python",
   "pygments_lexer": "ipython3",
   "version": "3.7.3"
  }
 },
 "nbformat": 4,
 "nbformat_minor": 2
}
